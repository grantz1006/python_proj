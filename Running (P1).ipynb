{
 "cells": [
  {
   "cell_type": "code",
   "execution_count": 144,
   "id": "73f83084",
   "metadata": {},
   "outputs": [],
   "source": [
    "import pandas as pd\n",
    "import matplotlib.pyplot as plt\n",
    "from sklearn.metrics import r2_score \n",
    "import numpy as np\n",
    "import random\n",
    "import re"
   ]
  },
  {
   "cell_type": "code",
   "execution_count": 97,
   "id": "ac047039",
   "metadata": {},
   "outputs": [],
   "source": [
    "running = pd.read_csv(\"races.csv\")"
   ]
  },
  {
   "cell_type": "code",
   "execution_count": 98,
   "id": "0f935205",
   "metadata": {},
   "outputs": [
    {
     "data": {
      "text/html": [
       "<div>\n",
       "<style scoped>\n",
       "    .dataframe tbody tr th:only-of-type {\n",
       "        vertical-align: middle;\n",
       "    }\n",
       "\n",
       "    .dataframe tbody tr th {\n",
       "        vertical-align: top;\n",
       "    }\n",
       "\n",
       "    .dataframe thead th {\n",
       "        text-align: right;\n",
       "    }\n",
       "</style>\n",
       "<table border=\"1\" class=\"dataframe\">\n",
       "  <thead>\n",
       "    <tr style=\"text-align: right;\">\n",
       "      <th></th>\n",
       "      <th>gender</th>\n",
       "      <th>distance</th>\n",
       "      <th>distance_n</th>\n",
       "      <th>time</th>\n",
       "      <th>time_seconds</th>\n",
       "      <th>name</th>\n",
       "      <th>rank</th>\n",
       "    </tr>\n",
       "  </thead>\n",
       "  <tbody>\n",
       "    <tr>\n",
       "      <th>0</th>\n",
       "      <td>m</td>\n",
       "      <td>100</td>\n",
       "      <td>100.0</td>\n",
       "      <td>9.58</td>\n",
       "      <td>9.58</td>\n",
       "      <td>Usain Bolt</td>\n",
       "      <td>1</td>\n",
       "    </tr>\n",
       "    <tr>\n",
       "      <th>1</th>\n",
       "      <td>m</td>\n",
       "      <td>100</td>\n",
       "      <td>100.0</td>\n",
       "      <td>9.63</td>\n",
       "      <td>9.63</td>\n",
       "      <td>Usain Bolt</td>\n",
       "      <td>2</td>\n",
       "    </tr>\n",
       "    <tr>\n",
       "      <th>2</th>\n",
       "      <td>m</td>\n",
       "      <td>100</td>\n",
       "      <td>100.0</td>\n",
       "      <td>9.69</td>\n",
       "      <td>9.69</td>\n",
       "      <td>Usain Bolt</td>\n",
       "      <td>3</td>\n",
       "    </tr>\n",
       "    <tr>\n",
       "      <th>3</th>\n",
       "      <td>m</td>\n",
       "      <td>100</td>\n",
       "      <td>100.0</td>\n",
       "      <td>9.69</td>\n",
       "      <td>9.69</td>\n",
       "      <td>Tyson Gay</td>\n",
       "      <td>3</td>\n",
       "    </tr>\n",
       "    <tr>\n",
       "      <th>4</th>\n",
       "      <td>m</td>\n",
       "      <td>100</td>\n",
       "      <td>100.0</td>\n",
       "      <td>9.69</td>\n",
       "      <td>9.69</td>\n",
       "      <td>Yohan Blake</td>\n",
       "      <td>3</td>\n",
       "    </tr>\n",
       "  </tbody>\n",
       "</table>\n",
       "</div>"
      ],
      "text/plain": [
       "  gender distance  distance_n  time  time_seconds         name  rank\n",
       "0      m      100       100.0  9.58          9.58   Usain Bolt     1\n",
       "1      m      100       100.0  9.63          9.63   Usain Bolt     2\n",
       "2      m      100       100.0  9.69          9.69   Usain Bolt     3\n",
       "3      m      100       100.0  9.69          9.69    Tyson Gay     3\n",
       "4      m      100       100.0  9.69          9.69  Yohan Blake     3"
      ]
     },
     "execution_count": 98,
     "metadata": {},
     "output_type": "execute_result"
    }
   ],
   "source": [
    "running = running.sort_values(by = ['distance_n', 'time_seconds'], ascending = True)\n",
    "running.head()"
   ]
  },
  {
   "cell_type": "code",
   "execution_count": 99,
   "id": "8193a919",
   "metadata": {},
   "outputs": [
    {
     "data": {
      "text/html": [
       "<div>\n",
       "<style scoped>\n",
       "    .dataframe tbody tr th:only-of-type {\n",
       "        vertical-align: middle;\n",
       "    }\n",
       "\n",
       "    .dataframe tbody tr th {\n",
       "        vertical-align: top;\n",
       "    }\n",
       "\n",
       "    .dataframe thead th {\n",
       "        text-align: right;\n",
       "    }\n",
       "</style>\n",
       "<table border=\"1\" class=\"dataframe\">\n",
       "  <thead>\n",
       "    <tr style=\"text-align: right;\">\n",
       "      <th></th>\n",
       "      <th>gender</th>\n",
       "      <th>distance</th>\n",
       "      <th>distance_n</th>\n",
       "      <th>time</th>\n",
       "      <th>time_seconds</th>\n",
       "      <th>name</th>\n",
       "      <th>rank</th>\n",
       "    </tr>\n",
       "  </thead>\n",
       "  <tbody>\n",
       "    <tr>\n",
       "      <th>43166</th>\n",
       "      <td>m</td>\n",
       "      <td>mara</td>\n",
       "      <td>42164.81</td>\n",
       "      <td>2:02:57</td>\n",
       "      <td>7377.0</td>\n",
       "      <td>Dennis Kimetto</td>\n",
       "      <td>1</td>\n",
       "    </tr>\n",
       "    <tr>\n",
       "      <th>43167</th>\n",
       "      <td>m</td>\n",
       "      <td>mara</td>\n",
       "      <td>42164.81</td>\n",
       "      <td>2:03:02</td>\n",
       "      <td>7382.0</td>\n",
       "      <td>Geoffrey Mutai</td>\n",
       "      <td>2</td>\n",
       "    </tr>\n",
       "    <tr>\n",
       "      <th>43168</th>\n",
       "      <td>m</td>\n",
       "      <td>mara</td>\n",
       "      <td>42164.81</td>\n",
       "      <td>2:03:03</td>\n",
       "      <td>7383.0</td>\n",
       "      <td>Kenenisa Bekele</td>\n",
       "      <td>3</td>\n",
       "    </tr>\n",
       "    <tr>\n",
       "      <th>43169</th>\n",
       "      <td>m</td>\n",
       "      <td>mara</td>\n",
       "      <td>42164.81</td>\n",
       "      <td>2:03:05</td>\n",
       "      <td>7385.0</td>\n",
       "      <td>Eliud Kipchoge</td>\n",
       "      <td>4</td>\n",
       "    </tr>\n",
       "    <tr>\n",
       "      <th>43170</th>\n",
       "      <td>m</td>\n",
       "      <td>mara</td>\n",
       "      <td>42164.81</td>\n",
       "      <td>2:03:06</td>\n",
       "      <td>7386.0</td>\n",
       "      <td>Moses Mosop</td>\n",
       "      <td>5</td>\n",
       "    </tr>\n",
       "    <tr>\n",
       "      <th>...</th>\n",
       "      <td>...</td>\n",
       "      <td>...</td>\n",
       "      <td>...</td>\n",
       "      <td>...</td>\n",
       "      <td>...</td>\n",
       "      <td>...</td>\n",
       "      <td>...</td>\n",
       "    </tr>\n",
       "    <tr>\n",
       "      <th>46081</th>\n",
       "      <td>m</td>\n",
       "      <td>mara</td>\n",
       "      <td>42164.81</td>\n",
       "      <td>2:10:29</td>\n",
       "      <td>7829.0</td>\n",
       "      <td>Yuki Kawauchi</td>\n",
       "      <td>2897</td>\n",
       "    </tr>\n",
       "    <tr>\n",
       "      <th>46082</th>\n",
       "      <td>m</td>\n",
       "      <td>mara</td>\n",
       "      <td>42164.81</td>\n",
       "      <td>2:10:29</td>\n",
       "      <td>7829.0</td>\n",
       "      <td>Masato Imai</td>\n",
       "      <td>2897</td>\n",
       "    </tr>\n",
       "    <tr>\n",
       "      <th>46083</th>\n",
       "      <td>m</td>\n",
       "      <td>mara</td>\n",
       "      <td>42164.81</td>\n",
       "      <td>2:10:29</td>\n",
       "      <td>7829.0</td>\n",
       "      <td>Hiroaki Sano</td>\n",
       "      <td>2897</td>\n",
       "    </tr>\n",
       "    <tr>\n",
       "      <th>46084</th>\n",
       "      <td>m</td>\n",
       "      <td>mara</td>\n",
       "      <td>42164.81</td>\n",
       "      <td>2:10:29</td>\n",
       "      <td>7829.0</td>\n",
       "      <td>Norbert Kigen</td>\n",
       "      <td>2897</td>\n",
       "    </tr>\n",
       "    <tr>\n",
       "      <th>46085</th>\n",
       "      <td>m</td>\n",
       "      <td>mara</td>\n",
       "      <td>42164.81</td>\n",
       "      <td>2:10:29</td>\n",
       "      <td>7829.0</td>\n",
       "      <td>Emmanuel Mutai</td>\n",
       "      <td>2897</td>\n",
       "    </tr>\n",
       "  </tbody>\n",
       "</table>\n",
       "<p>2920 rows × 7 columns</p>\n",
       "</div>"
      ],
      "text/plain": [
       "      gender distance  distance_n     time  time_seconds             name  \\\n",
       "43166      m     mara    42164.81  2:02:57        7377.0   Dennis Kimetto   \n",
       "43167      m     mara    42164.81  2:03:02        7382.0   Geoffrey Mutai   \n",
       "43168      m     mara    42164.81  2:03:03        7383.0  Kenenisa Bekele   \n",
       "43169      m     mara    42164.81  2:03:05        7385.0   Eliud Kipchoge   \n",
       "43170      m     mara    42164.81  2:03:06        7386.0      Moses Mosop   \n",
       "...      ...      ...         ...      ...           ...              ...   \n",
       "46081      m     mara    42164.81  2:10:29        7829.0    Yuki Kawauchi   \n",
       "46082      m     mara    42164.81  2:10:29        7829.0      Masato Imai   \n",
       "46083      m     mara    42164.81  2:10:29        7829.0     Hiroaki Sano   \n",
       "46084      m     mara    42164.81  2:10:29        7829.0    Norbert Kigen   \n",
       "46085      m     mara    42164.81  2:10:29        7829.0   Emmanuel Mutai   \n",
       "\n",
       "       rank  \n",
       "43166     1  \n",
       "43167     2  \n",
       "43168     3  \n",
       "43169     4  \n",
       "43170     5  \n",
       "...     ...  \n",
       "46081  2897  \n",
       "46082  2897  \n",
       "46083  2897  \n",
       "46084  2897  \n",
       "46085  2897  \n",
       "\n",
       "[2920 rows x 7 columns]"
      ]
     },
     "execution_count": 99,
     "metadata": {},
     "output_type": "execute_result"
    }
   ],
   "source": [
    "tlist = running.loc[running['distance'] == 'mara', 'time']\n",
    "mar_sec = []\n",
    "for i in tlist:\n",
    "    hours, minutes, seconds = re.split(\"\\D\", i)\n",
    "    mar_sec.append((int(hours) * 3600) + (int(minutes) * 60) + float(seconds))\n",
    "running.loc[running['distance'] == 'mara', 'time_seconds'] = mar_sec\n",
    "running.loc[running['distance'] == 'mara', :]"
   ]
  },
  {
   "cell_type": "code",
   "execution_count": 100,
   "id": "e6037a19",
   "metadata": {},
   "outputs": [
    {
     "data": {
      "text/plain": [
       "count     48077\n",
       "unique       11\n",
       "top        1500\n",
       "freq       7880\n",
       "Name: distance, dtype: object"
      ]
     },
     "execution_count": 100,
     "metadata": {},
     "output_type": "execute_result"
    }
   ],
   "source": [
    "running['distance'].describe()"
   ]
  },
  {
   "cell_type": "code",
   "execution_count": 101,
   "id": "b2a29698",
   "metadata": {
    "scrolled": true
   },
   "outputs": [
    {
     "data": {
      "text/plain": [
       "1500     7880\n",
       "10k      7497\n",
       "5000     6913\n",
       "800      6528\n",
       "mile     4823\n",
       "400      3545\n",
       "200      3112\n",
       "mara     2920\n",
       "100      2841\n",
       "hmara    1991\n",
       "3000       27\n",
       "Name: distance, dtype: int64"
      ]
     },
     "execution_count": 101,
     "metadata": {},
     "output_type": "execute_result"
    }
   ],
   "source": [
    "running['distance'].value_counts()"
   ]
  },
  {
   "cell_type": "code",
   "execution_count": 102,
   "id": "1900ad74",
   "metadata": {},
   "outputs": [],
   "source": [
    "difftypes = running['distance_n'].unique()"
   ]
  },
  {
   "cell_type": "code",
   "execution_count": 135,
   "id": "6f4f650d",
   "metadata": {},
   "outputs": [
    {
     "name": "stdout",
     "output_type": "stream",
     "text": [
      "[  100.     200.     400.     800.    1500.    1609.34  3000.    5000.\n",
      " 10000.   21082.41 42164.81]\n"
     ]
    }
   ],
   "source": [
    "print(difftypes)\n",
    "diffdf = [0] * len(difftypes)\n",
    "for i in range(len(difftypes)):\n",
    "    diffdf[i] = running[running['distance_n'] == difftypes[i]]\n",
    "    "
   ]
  },
  {
   "cell_type": "code",
   "execution_count": 131,
   "id": "5b4ba629",
   "metadata": {},
   "outputs": [],
   "source": [
    "highest = [i['time_seconds'].min() for i in diffdf]\n",
    "highest_norm = highest / difftypes\n",
    "med = [i['time_seconds'].median() for i in diffdf]\n",
    "standout = [med[i] / highest[i] for i in range(len(med))]"
   ]
  },
  {
   "cell_type": "code",
   "execution_count": 127,
   "id": "13ee3abb",
   "metadata": {},
   "outputs": [
    {
     "name": "stdout",
     "output_type": "stream",
     "text": [
      "R^2: 0.9992108099655649\n",
      "R^2: 0.999971116819103\n",
      "R^2: 0.9999959820117988\n",
      "R^2: 0.9999976018069093\n",
      "R^2: 0.9999989467824937\n",
      "R^2: 0.9999996576378357\n",
      "R^2: 0.9999998964794443\n",
      "R^2: 0.9999999904947107\n",
      "R^2: 0.9999999978305851\n"
     ]
    }
   ],
   "source": [
    "for i in range(1, 10):\n",
    "    z = np.polyfit(difftypes, highest, deg = i)\n",
    "    p = np.poly1d(z)\n",
    "    fit = []\n",
    "    for j in range(len(difftypes)):\n",
    "        fit.append(p(difftypes[j]))\n",
    "    print(\"R^2: \"+str(r2_score(highest, fit)))"
   ]
  },
  {
   "cell_type": "code",
   "execution_count": 113,
   "id": "8b1e3a92",
   "metadata": {},
   "outputs": [
    {
     "name": "stdout",
     "output_type": "stream",
     "text": [
      "[9.58, 19.19, 43.03, 100.91, 206.0, 223.13, 440.67, 757.35, 1577.53, 3503.0, 7377.0]\n",
      "[0.0958     0.09595    0.107575   0.1261375  0.13733333 0.1386469\n",
      " 0.14689    0.15147    0.157753   0.16615747 0.17495632]\n",
      "[  100.     200.     400.     800.    1500.    1609.34  3000.    5000.\n",
      " 10000.   21082.41 42164.81]\n",
      "[9.883018086244123, 19.766034133928077, 39.53175231203715, 79.06249577586742, 148.24103887285216, 159.04667875267538, 296.4801305788272, 494.1319958003897, 988.2597250078151, 2083.477639710528, 4166.929102118226]\n"
     ]
    },
    {
     "data": {
      "text/plain": [
       "<function matplotlib.pyplot.show(close=None, block=None)>"
      ]
     },
     "execution_count": 113,
     "metadata": {},
     "output_type": "execute_result"
    },
    {
     "data": {
      "image/png": "[encoded data removed]",
      "text/plain": [
       "<Figure size 640x480 with 1 Axes>"
      ]
     },
     "metadata": {},
     "output_type": "display_data"
    }
   ],
   "source": [
    "z = np.polyfit(difftypes, highest_norm, deg = 9)\n",
    "p = np.poly1d(z)\n",
    "plt.scatter(difftypes, highest_norm)\n",
    "plt.plot(difftypes, p(difftypes))\n",
    "plt.show"
   ]
  },
  {
   "cell_type": "code",
   "execution_count": 147,
   "id": "834c801c",
   "metadata": {},
   "outputs": [
    {
     "data": {
      "text/plain": [
       "<function matplotlib.pyplot.show(close=None, block=None)>"
      ]
     },
     "execution_count": 147,
     "metadata": {},
     "output_type": "execute_result"
    },
    {
     "data": {
      "image/png": "[encoded data removed]",
      "text/plain": [
       "<Figure size 640x480 with 1 Axes>"
      ]
     },
     "metadata": {},
     "output_type": "display_data"
    }
   ],
   "source": [
    "z2 = np.polyfit(difftypes, standout, deg = 1)\n",
    "p2 = np.poly1d(z2)\n",
    "colors = color = [\"#\" + ''.join([random.choice('0123456789ABCDEF') for j in range(6)]) for i in range(11)]\n",
    "plt.scatter(difftypes, standout, c=colors)\n",
    "plt.plot(difftypes, p2(difftypes))\n",
    "plt.show"
   ]
  },
  {
   "cell_type": "code",
   "execution_count": 68,
   "id": "df687744",
   "metadata": {},
   "outputs": [
    {
     "data": {
      "image/png": "[encoded data removed]",
      "text/plain": [
       "<Figure size 640x480 with 1 Axes>"
      ]
     },
     "metadata": {},
     "output_type": "display_data"
    }
   ],
   "source": [
    "for i in diffdf:\n",
    "    time = list(i.iloc[0:10, 4])\n",
    "    time_norm = [(tim / i.iloc[0,4]) for tim in time]\n",
    "    rank = list(i.iloc[0:10, 6])\n",
    "    plt.scatter(rank, time_norm)"
   ]
  },
  {
   "cell_type": "code",
   "execution_count": null,
   "id": "a733eb07",
   "metadata": {},
   "outputs": [],
   "source": []
  },
  {
   "cell_type": "code",
   "execution_count": null,
   "id": "77c55910",
   "metadata": {},
   "outputs": [],
   "source": []
  }
 ],
 "metadata": {
  "kernelspec": {
   "display_name": "Python 3 (ipykernel)",
   "language": "python",
   "name": "python3"
  },
  "language_info": {
   "codemirror_mode": {
    "name": "ipython",
    "version": 3
   },
   "file_extension": ".py",
   "mimetype": "text/x-python",
   "name": "python",
   "nbconvert_exporter": "python",
   "pygments_lexer": "ipython3",
   "version": "3.9.13"
  }
 },
 "nbformat": 4,
 "nbformat_minor": 5
}
